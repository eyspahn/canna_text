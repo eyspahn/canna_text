{
 "cells": [
  {
   "cell_type": "code",
   "execution_count": 2,
   "metadata": {
    "collapsed": true
   },
   "outputs": [],
   "source": [
    "import pandas as pd\n",
    "import numpy as np"
   ]
  },
  {
   "cell_type": "code",
   "execution_count": null,
   "metadata": {
    "collapsed": true
   },
   "outputs": [],
   "source": [
    "# We just want the names. Let's use pandas to strip out only the names"
   ]
  },
  {
   "cell_type": "code",
   "execution_count": 3,
   "metadata": {},
   "outputs": [],
   "source": [
    "df = pd.read_csv('cannabis.csv')"
   ]
  },
  {
   "cell_type": "code",
   "execution_count": 4,
   "metadata": {},
   "outputs": [
    {
     "data": {
      "text/html": [
       "<div>\n",
       "<style>\n",
       "    .dataframe thead tr:only-child th {\n",
       "        text-align: right;\n",
       "    }\n",
       "\n",
       "    .dataframe thead th {\n",
       "        text-align: left;\n",
       "    }\n",
       "\n",
       "    .dataframe tbody tr th {\n",
       "        vertical-align: top;\n",
       "    }\n",
       "</style>\n",
       "<table border=\"1\" class=\"dataframe\">\n",
       "  <thead>\n",
       "    <tr style=\"text-align: right;\">\n",
       "      <th></th>\n",
       "      <th>Strain</th>\n",
       "      <th>Type</th>\n",
       "      <th>Rating</th>\n",
       "      <th>Effects</th>\n",
       "      <th>Flavor</th>\n",
       "      <th>Description</th>\n",
       "    </tr>\n",
       "  </thead>\n",
       "  <tbody>\n",
       "    <tr>\n",
       "      <th>0</th>\n",
       "      <td>100-Og</td>\n",
       "      <td>hybrid</td>\n",
       "      <td>4.0</td>\n",
       "      <td>Creative,Energetic,Tingly,Euphoric,Relaxed</td>\n",
       "      <td>Earthy,Sweet,Citrus</td>\n",
       "      <td>$100 OG is a 50/50 hybrid strain that packs a ...</td>\n",
       "    </tr>\n",
       "    <tr>\n",
       "      <th>1</th>\n",
       "      <td>98-White-Widow</td>\n",
       "      <td>hybrid</td>\n",
       "      <td>4.7</td>\n",
       "      <td>Relaxed,Aroused,Creative,Happy,Energetic</td>\n",
       "      <td>Flowery,Violet,Diesel</td>\n",
       "      <td>The ‘98 Aloha White Widow is an especially pot...</td>\n",
       "    </tr>\n",
       "    <tr>\n",
       "      <th>2</th>\n",
       "      <td>1024</td>\n",
       "      <td>sativa</td>\n",
       "      <td>4.4</td>\n",
       "      <td>Uplifted,Happy,Relaxed,Energetic,Creative</td>\n",
       "      <td>Spicy/Herbal,Sage,Woody</td>\n",
       "      <td>1024 is a sativa-dominant hybrid bred in Spain...</td>\n",
       "    </tr>\n",
       "    <tr>\n",
       "      <th>3</th>\n",
       "      <td>13-Dawgs</td>\n",
       "      <td>hybrid</td>\n",
       "      <td>4.2</td>\n",
       "      <td>Tingly,Creative,Hungry,Relaxed,Uplifted</td>\n",
       "      <td>Apricot,Citrus,Grapefruit</td>\n",
       "      <td>13 Dawgs is a hybrid of G13 and Chemdawg genet...</td>\n",
       "    </tr>\n",
       "    <tr>\n",
       "      <th>4</th>\n",
       "      <td>24K-Gold</td>\n",
       "      <td>hybrid</td>\n",
       "      <td>4.6</td>\n",
       "      <td>Happy,Relaxed,Euphoric,Uplifted,Talkative</td>\n",
       "      <td>Citrus,Earthy,Orange</td>\n",
       "      <td>Also known as Kosher Tangie, 24k Gold is a 60%...</td>\n",
       "    </tr>\n",
       "  </tbody>\n",
       "</table>\n",
       "</div>"
      ],
      "text/plain": [
       "           Strain    Type  Rating                                     Effects  \\\n",
       "0          100-Og  hybrid     4.0  Creative,Energetic,Tingly,Euphoric,Relaxed   \n",
       "1  98-White-Widow  hybrid     4.7    Relaxed,Aroused,Creative,Happy,Energetic   \n",
       "2            1024  sativa     4.4   Uplifted,Happy,Relaxed,Energetic,Creative   \n",
       "3        13-Dawgs  hybrid     4.2     Tingly,Creative,Hungry,Relaxed,Uplifted   \n",
       "4        24K-Gold  hybrid     4.6   Happy,Relaxed,Euphoric,Uplifted,Talkative   \n",
       "\n",
       "                      Flavor  \\\n",
       "0        Earthy,Sweet,Citrus   \n",
       "1      Flowery,Violet,Diesel   \n",
       "2    Spicy/Herbal,Sage,Woody   \n",
       "3  Apricot,Citrus,Grapefruit   \n",
       "4       Citrus,Earthy,Orange   \n",
       "\n",
       "                                         Description  \n",
       "0  $100 OG is a 50/50 hybrid strain that packs a ...  \n",
       "1  The ‘98 Aloha White Widow is an especially pot...  \n",
       "2  1024 is a sativa-dominant hybrid bred in Spain...  \n",
       "3  13 Dawgs is a hybrid of G13 and Chemdawg genet...  \n",
       "4  Also known as Kosher Tangie, 24k Gold is a 60%...  "
      ]
     },
     "execution_count": 4,
     "metadata": {},
     "output_type": "execute_result"
    }
   ],
   "source": [
    "df.head()"
   ]
  },
  {
   "cell_type": "code",
   "execution_count": 7,
   "metadata": {
    "collapsed": true
   },
   "outputs": [],
   "source": [
    "df.Strain.to_csv('strain_names.csv', index=False)"
   ]
  },
  {
   "cell_type": "code",
   "execution_count": 9,
   "metadata": {},
   "outputs": [
    {
     "name": "stdout",
     "output_type": "stream",
     "text": [
      "100-Og\r\n",
      "98-White-Widow\r\n",
      "1024\r\n",
      "13-Dawgs\r\n",
      "24K-Gold\r\n",
      "3-Bears-Og\r\n",
      "3-Kings\r\n",
      "303-Og\r\n",
      "3D-Cbd\r\n",
      "3X-Crazy\r\n"
     ]
    }
   ],
   "source": [
    "!head strain_names.csv"
   ]
  },
  {
   "cell_type": "code",
   "execution_count": 15,
   "metadata": {},
   "outputs": [],
   "source": [
    "# get a single long string of strain names separated by newline chars\n",
    "with open('strain_names.csv') as f:\n",
    "    file = f.read()"
   ]
  },
  {
   "cell_type": "code",
   "execution_count": 22,
   "metadata": {
    "scrolled": false
   },
   "outputs": [
    {
     "data": {
      "text/plain": [
       "'100-Og\\n98-White-Widow\\n1024\\n13-Dawgs\\n24K-Gold\\n3-Bears-Og\\n3-Kings\\n303-Og\\n3D-Cbd\\n3X-Crazy\\n3Rd-Coast-Pan'"
      ]
     },
     "execution_count": 22,
     "metadata": {},
     "output_type": "execute_result"
    }
   ],
   "source": [
    "file[:100]"
   ]
  },
  {
   "cell_type": "code",
   "execution_count": 16,
   "metadata": {
    "collapsed": true
   },
   "outputs": [],
   "source": [
    "file_len = len(file)"
   ]
  },
  {
   "cell_type": "code",
   "execution_count": 17,
   "metadata": {},
   "outputs": [
    {
     "data": {
      "text/plain": [
       "29372"
      ]
     },
     "execution_count": 17,
     "metadata": {},
     "output_type": "execute_result"
    }
   ],
   "source": [
    "file_len"
   ]
  },
  {
   "cell_type": "code",
   "execution_count": 23,
   "metadata": {
    "collapsed": true
   },
   "outputs": [],
   "source": [
    "# Now following the PyTorch Example"
   ]
  },
  {
   "cell_type": "code",
   "execution_count": 52,
   "metadata": {
    "collapsed": true
   },
   "outputs": [],
   "source": [
    "import random\n",
    "import string\n",
    "import re\n",
    "\n",
    "all_characters = string.printable\n",
    "n_characters = len(all_characters)"
   ]
  },
  {
   "cell_type": "code",
   "execution_count": 50,
   "metadata": {
    "collapsed": true
   },
   "outputs": [],
   "source": [
    "chunk_len = 250\n",
    "\n",
    "\n",
    "def random_chunk():\n",
    "    '''filelen is length of chars in file'''\n",
    "    start_index = random.randint(0, file_len - chunk_len)\n",
    "    end_index = start_index + chunk_len + 1\n",
    "    return file[start_index:end_index]"
   ]
  },
  {
   "cell_type": "code",
   "execution_count": 48,
   "metadata": {},
   "outputs": [
    {
     "name": "stdout",
     "output_type": "stream",
     "text": [
      "-47\n",
      "Ak-48\n",
      "Aberdeen\n",
      "Abusive-Og\n",
      "Acapulco-Gold\n",
      "Ace-Killer-Og\n",
      "Ace-Of-Spades\n",
      "Aceh\n",
      "Acid\n",
      "Acid-Dough\n",
      "Afcrack\n",
      "Afghan-Big-Bud\n",
      "Afghan-Cow\n",
      "Afghan-Diesel\n",
      "Afghan-Hawaiian\n",
      "Afghan-Haze\n",
      "Afghan-Kush\n",
      "Afghan-Skunk\n",
      "Afghan-Sour-Kush\n",
      "Afghan-Widow\n",
      "Afghani\n",
      "Afgahni-Bullrider\n",
      "A\n"
     ]
    }
   ],
   "source": [
    "print(random_chunk())"
   ]
  },
  {
   "cell_type": "code",
   "execution_count": null,
   "metadata": {
    "collapsed": true
   },
   "outputs": [],
   "source": []
  },
  {
   "cell_type": "code",
   "execution_count": null,
   "metadata": {
    "collapsed": true
   },
   "outputs": [],
   "source": [
    "## Build the Model"
   ]
  },
  {
   "cell_type": "code",
   "execution_count": 24,
   "metadata": {
    "collapsed": true
   },
   "outputs": [],
   "source": [
    "import torch\n",
    "import torch.nn as nn\n",
    "from torch.autograd import Variable\n",
    "\n",
    "class RNN(nn.Module):\n",
    "    def __init__(self, input_size, hidden_size, output_size, n_layers=1):\n",
    "        super(RNN, self).__init__()\n",
    "        self.input_size = input_size\n",
    "        self.hidden_size = hidden_size\n",
    "        self.output_size = output_size\n",
    "        self.n_layers = n_layers\n",
    "        \n",
    "        self.encoder = nn.Embedding(input_size, hidden_size)\n",
    "        self.gru = nn.GRU(hidden_size, hidden_size, n_layers)\n",
    "        self.decoder = nn.Linear(hidden_size, output_size)\n",
    "        \n",
    "    def forward(self, input, hidden):\n",
    "        input = self.encoder(input.view(1,-1))\n",
    "        output, hidden = self.gru(input.view(1,1,-1) ,hidden)\n",
    "        output = self.decoder(output.view(1, -1))\n",
    "        return output, hidden\n",
    "    \n",
    "    def init_hidden(self):\n",
    "        return Variable(torch.zeros(self.n_layers, 1, self.hidden_size))\n",
    "    \n"
   ]
  },
  {
   "cell_type": "code",
   "execution_count": 49,
   "metadata": {
    "collapsed": true
   },
   "outputs": [],
   "source": [
    "## Inputs and Targets"
   ]
  },
  {
   "cell_type": "code",
   "execution_count": 53,
   "metadata": {},
   "outputs": [
    {
     "name": "stdout",
     "output_type": "stream",
     "text": [
      "Variable containing:\n",
      " 10\n",
      " 11\n",
      " 12\n",
      " 39\n",
      " 40\n",
      " 41\n",
      "[torch.LongTensor of size 6]\n",
      "\n"
     ]
    }
   ],
   "source": [
    "def char_tensor(string):\n",
    "    tensor = torch.zeros(len(string)).long()\n",
    "    for c in range(len(string)):\n",
    "        tensor[c] = all_characters.index(string[c])\n",
    "    return Variable(tensor)\n",
    "\n",
    "print(char_tensor('abcDEF'))"
   ]
  },
  {
   "cell_type": "code",
   "execution_count": 54,
   "metadata": {
    "collapsed": true
   },
   "outputs": [],
   "source": [
    "def random_training_set():\n",
    "    chunk = random_chunk()\n",
    "    inp = char_tensor(chunk[:-1])\n",
    "    target = char_tensor(chunk[1:])\n",
    "    return inp, target\n"
   ]
  },
  {
   "cell_type": "code",
   "execution_count": null,
   "metadata": {},
   "outputs": [],
   "source": []
  },
  {
   "cell_type": "code",
   "execution_count": 55,
   "metadata": {
    "collapsed": true
   },
   "outputs": [],
   "source": [
    "# Evaluating"
   ]
  },
  {
   "cell_type": "code",
   "execution_count": 62,
   "metadata": {
    "collapsed": true
   },
   "outputs": [],
   "source": [
    "def evaluate(prime_str='A', predict_len=100, temperature=0.8):\n",
    "    hidden = decoder.init_hidden()\n",
    "    prime_input = char_tensor(prime_str)\n",
    "    predicted = prime_str\n",
    "    \n",
    "    for p in range(len(prime_str)-1):\n",
    "        _,hidden = decoder(prime_input[p], hidden)\n",
    "    inp = prime_input[-1]\n",
    "    \n",
    "    for p in range(predict_len):\n",
    "        output, hidden = decoder(inp, hidden)\n",
    "        \n",
    "        output_dist = output.data.view(-1).div(temperature).exp()\n",
    "        top_i = torch.multinomial(output_dist, 1)[0]\n",
    "        \n",
    "        predicted_char = all_characters[top_i]\n",
    "        predicted += predicted_char\n",
    "        inp = char_tensor(predicted_char)\n",
    "        \n",
    "    return predicted"
   ]
  },
  {
   "cell_type": "code",
   "execution_count": 57,
   "metadata": {
    "collapsed": true
   },
   "outputs": [],
   "source": [
    "# Training"
   ]
  },
  {
   "cell_type": "code",
   "execution_count": 58,
   "metadata": {
    "collapsed": true
   },
   "outputs": [],
   "source": [
    "import time, math\n",
    "\n",
    "def time_since(since):\n",
    "    s = time.time() - since\n",
    "    m = math.floor(s/60)\n",
    "    s -= m*60\n",
    "    return '%dm %ds' % (m,s)"
   ]
  },
  {
   "cell_type": "code",
   "execution_count": 59,
   "metadata": {
    "collapsed": true
   },
   "outputs": [],
   "source": [
    "def train(inp, target):\n",
    "    hidden = decoder.init_hidden()\n",
    "    decoder.zero_grad()\n",
    "    loss=0\n",
    "    \n",
    "    for c in range(chunk_len):\n",
    "        output, hidden = decoder(inp[c], hidden)\n",
    "        loss += criterion(output, target[c])\n",
    "        \n",
    "    loss.backward()\n",
    "    decoder_optimizer.step()\n",
    "    \n",
    "    return loss.data[0] / chunk_len"
   ]
  },
  {
   "cell_type": "code",
   "execution_count": 63,
   "metadata": {
    "scrolled": false
   },
   "outputs": [
    {
     "name": "stdout",
     "output_type": "stream",
     "text": [
      "[0m 29s (100 5%) 2.4270]\n",
      "Whica-Og\n",
      "Loongherk-The\n",
      "Sour-Fush\n",
      "Chon-oonoka\n",
      "Dam-Kush\n",
      "Ian-Tigh-Dtur\n",
      "Dolierers\n",
      "Trruse\n",
      "Ari-Haze\n",
      "Boubbar- \n",
      "\n",
      "[1m 4s (200 10%) 2.6515]\n",
      "Whrenram\n",
      "Veate-Sunk\n",
      "Vre-Bed\n",
      "Liese-Emand\n",
      "Whee\n",
      "Songaiin\n",
      "ilut-4\n",
      "Jack-47\n",
      "Ick\n",
      "Cherry\n",
      "Siverl-Dreane\n",
      "Cherry-H \n",
      "\n",
      "[1m 37s (300 15%) 2.0116]\n",
      "Whitim-Difer-Tanger\n",
      "Goder-Finderder\n",
      "Gurda-Kush\n",
      "Porple-Chul\n",
      "Chat-0ine\n",
      "Far-Og\n",
      "Bluebenber-Dack\n",
      "Super-Bubb \n",
      "\n",
      "[2m 8s (400 20%) 1.8203]\n",
      "Whise\n",
      "Og-Gaft\n",
      "Penp-Kush\n",
      "Klange-Tari\n",
      "Og-Breck\n",
      "Blue-Banger\n",
      "Budack\n",
      "Berry-Black\n",
      "The-Og\n",
      "PerSple-Jack\n",
      "Jack-B \n",
      "\n",
      "[2m 40s (500 25%) 2.0838]\n",
      "White-Kush\n",
      "Countie\n",
      "Piesule-Cbd\n",
      "White-Rock\n",
      "Truit-Diens\n",
      "White-Mist\n",
      "Clue-Kush\n",
      "Clemene\n",
      "Chempan-Kush\n",
      "Chur-K \n",
      "\n",
      "[3m 13s (600 30%) 1.4640]\n",
      "White\n",
      "Purple-White\n",
      "Diel-Sour-Dieles\n",
      "Purple-Ansy-Purks\n",
      "Purple-Pope\n",
      "Shition-Alien-Alien-Og\n",
      "Pine-Pon\n",
      "Mumo \n",
      "\n",
      "[3m 45s (700 35%) 1.5083]\n",
      "White-Og\n",
      "Mablist\n",
      "Mad-Cookey\n",
      "Cookie-Cookies\n",
      "Purple-Cruit\n",
      "Chooolate-Fut-Sheettor\n",
      "Sour-Nerstht\n",
      "Sugarral-A \n",
      "\n",
      "[4m 17s (800 40%) 2.1547]\n",
      "White-Diesel\n",
      "Peall-Cherry\n",
      "Hulper-Bubble\n",
      "Sour-Bel-Tange\n",
      "Super-Diesel\n",
      "Super-Shem\n",
      "Shark\n",
      "Snow-Pass\n",
      "Skunk-B \n",
      "\n",
      "[4m 51s (900 45%) 1.5861]\n",
      "White-Kush\n",
      "Surple-Cheese\n",
      "Mandberry-Bubba\n",
      "Blueberry-Bubble-Kush\n",
      "Dover-Bold\n",
      "Duttrice-Bott\n",
      "Duc-Tulh\n",
      "Red-D \n",
      "\n",
      "[5m 23s (1000 50%) 2.0348]\n",
      "Whine-Harry-Kush\n",
      "Nost-Kush\n",
      "Ractite-Haze\n",
      "White-Tifferne\n",
      "Hasserry-Haze\n",
      "Forment\n",
      "Frost-Cookies\n",
      "Frantan-Coo \n",
      "\n",
      "[5m 56s (1100 55%) 1.6752]\n",
      "White-Kush\n",
      "Gaddumban-Dard\n",
      "Grapefruity-Glat\n",
      "Grapefruity\n",
      "Nighttonin-Gordel\n",
      "Neptle-Nops\n",
      "Strawberry-Purple \n",
      "\n",
      "[6m 28s (1200 60%) 1.5480]\n",
      "Whoe-Talimanger\n",
      "Sour-Diesel\n",
      "Sweet-Lime-Skunk-Satave\n",
      "Shilver-Og\n",
      "Super-Skunk\n",
      "Sentiian-Og\n",
      "Supermal-Og\n",
      "Doo \n",
      "\n",
      "[6m 59s (1300 65%) 1.1273]\n",
      "White-Capper\n",
      "Remin-Cookies\n",
      "Nighnt-Dream\n",
      "Star-Cheese\n",
      "Purple-Expruff\n",
      "Pret-Forten\n",
      "Toric-Og\n",
      "The-Blue-Woos\n",
      " \n",
      "\n",
      "[7m 31s (1400 70%) 1.1055]\n",
      "White-Limone\n",
      "White-Haze\n",
      "Godlly-Og\n",
      "Gilk-Kush\n",
      "Gods-Rint\n",
      "Gluer\n",
      "Grape-Gods\n",
      "Tahoe-Anger-Og\n",
      "Tahine-48\n",
      "Tanger \n",
      "\n",
      "[8m 5s (1500 75%) 1.8781]\n",
      "White-Headent\n",
      "Wonder-Og\n",
      "White-The-Ripprest\n",
      "Chunkie-Calyx\n",
      "Cherry-Cookies\n",
      "Cbd-Crack\n",
      "Critical-Kush\n",
      "Critic \n",
      "\n",
      "[8m 36s (1600 80%) 0.7655]\n",
      "White\n",
      "Varly-Widdum\n",
      "K1\n",
      "Grly-Girl\n",
      "Grope-Bubbage\n",
      "Gucky-Og\n",
      "L-3\n",
      "M3y-Bud\n",
      "Magic-Cream\n",
      "Mudsha\n",
      "Mack-Og\n",
      "Cherry-P \n",
      "\n",
      "[9m 7s (1700 85%) 1.7319]\n",
      "White-Strawberry-Kush\n",
      "Pawaia-Kush\n",
      "Peptan-Conpa\n",
      "Colo-Diesel\n",
      "Candon-Media\n",
      "Chocolate-Candy\n",
      "Drai-Cong\n",
      "Put- \n",
      "\n",
      "[9m 38s (1800 90%) 0.9373]\n",
      "White-Skunk\n",
      "Touth-Chem\n",
      "ThocoF-Woring\n",
      "Toora-Diesel\n",
      "The-Bubba\n",
      "Tangie-Kush\n",
      "Tatusta\n",
      "Patinum-Cake\n",
      "Purple-Er \n",
      "\n",
      "[10m 9s (1900 95%) 1.0315]\n",
      "Whitar\n",
      "Jack-Wapp\n",
      "Jack-Une\n",
      "Lemon-Kush\n",
      "Le-Rose-Easter\n",
      "Labon-Og\n",
      "Lalifgholle\n",
      "Lemon-Drop\n",
      "Legigert-Blue\n",
      "Lemo \n",
      "\n",
      "[10m 38s (2000 100%) 1.2359]\n",
      "White\n",
      "Sour-Cookie\n",
      "Sour-Calyx\n",
      "Sour-Skywar\n",
      "Suchine-Og\n",
      "Hawaiie-Trian\n",
      "Northern-Lambiol\n",
      "Oregan-Cappan-Trip\n",
      " \n",
      "\n"
     ]
    }
   ],
   "source": [
    "n_epochs = 2000\n",
    "print_every = 100\n",
    "plot_every=10\n",
    "hidden_size = 100\n",
    "n_layers = 1\n",
    "lr = 0.005\n",
    "\n",
    "decoder = RNN(n_characters, hidden_size, n_characters, n_layers)\n",
    "decoder_optimizer = torch.optim.Adam(decoder.parameters(), lr=lr)\n",
    "criterion = nn.CrossEntropyLoss()\n",
    "\n",
    "start = time.time()\n",
    "all_losses=[]\n",
    "loss_avg = 0\n",
    "\n",
    "for epoch in range(1, n_epochs+1):\n",
    "    loss = train(*random_training_set())\n",
    "    loss_avg += loss\n",
    "     \n",
    "    if epoch % print_every == 0:\n",
    "        print('[%s (%d %d%%) %.4f]' % (time_since(start), epoch, epoch / n_epochs * 100, loss))\n",
    "        print(evaluate('Wh', 100), '\\n')\n",
    "\n",
    "    if epoch % plot_every == 0:\n",
    "        all_losses.append(loss_avg / plot_every)\n",
    "        loss_avg = 0"
   ]
  },
  {
   "cell_type": "code",
   "execution_count": 74,
   "metadata": {},
   "outputs": [
    {
     "name": "stdout",
     "output_type": "stream",
     "text": [
      "Emai\n",
      "Green-Kush\n",
      "Grapefruit\n",
      "Grean-Golden\n",
      "Green-Golden\n",
      "Green-Sour-Green-Darp\n",
      "Galley-Grill\n",
      "Oback-Dirt\n",
      "Golden-Og\n",
      "Golden-Trine\n",
      "Green-Haze\n",
      "Goldent-Og\n",
      "Golden-Sour\n",
      "Glelkelland-Godilly\n",
      "Golden-Limeal\n",
      "Golden-Forange\n",
      "Golden-Haze\n",
      "Goset-Goldent\n",
      "Grunk-Durbal\n",
      "Bedccry\n",
      "Browbay\n",
      "Blueberry-Kush\n",
      "Bebla-78\n",
      "Bega-Kush\n",
      "Big-Hound\n",
      "Hashberry-Riger\n",
      "Haze-Og\n",
      "Haze-Tangs-Banana\n",
      "Sur-Is\n",
      "Haze-Tream\n",
      "Ormulange\n",
      "Hawaiian-Beblue\n",
      "Blueberry-Borth\n",
      "Blueberry-Jonge-Og\n",
      "Bedic-Jian\n",
      "Black-Ladol-Bell-Sherbert\n",
      "Black-Berry\n",
      "Black-Candy\n",
      "Blueberry-Medigh\n"
     ]
    }
   ],
   "source": [
    "print(evaluate('Em', 500, temperature=0.8))"
   ]
  },
  {
   "cell_type": "code",
   "execution_count": 70,
   "metadata": {},
   "outputs": [
    {
     "name": "stdout",
     "output_type": "stream",
     "text": [
      "o-Golden\n",
      "South-Beda\n",
      "Solator-Haze\n",
      "Sour-Shert\n",
      "Sour-Bellito\n",
      "Sour-Cookie\n",
      "Sour-Cheese\n",
      "Sour-Comoth\n",
      "Northell-Kush\n",
      "Obamd-Sour\n",
      "Iced-Gold\n",
      "Og-Tonic\n",
      "Ing-Tangie\n",
      "Goldon\n",
      "Haze-Wally\n",
      "Kush-Kush\n",
      "Og-Wooms\n",
      "Ire-Jofices\n",
      "Green-Queen\n",
      "Golden-Treane\n",
      "Grapefruit-Kush\n",
      "Gombilly\n",
      "Sour-Indica\n",
      "Goldent-Heam\n",
      "Insconeo\n",
      "Codfumed\n",
      "Cherry-Cake\n",
      "Sugar-Dream\n",
      "Haze\n",
      "Hawaiian-Tream\n",
      "Headwollangie\n",
      "Olmon-Tahin\n",
      "Critical-Jack\n",
      "Critical-Cherry-Og\n",
      "Cali-Cake\n",
      "Califorange-Og\n",
      "Cat-Puncher\n",
      "Cannadelic\n",
      "Cookie-Kush\n",
      "Calker-Og\n",
      "Cannalel-Kush\n",
      "Blonciame-Skunk\n",
      "Bingo-B\n"
     ]
    }
   ],
   "source": [
    "print(evaluate('o', 500, temperature=0.9))"
   ]
  },
  {
   "cell_type": "code",
   "execution_count": 66,
   "metadata": {},
   "outputs": [
    {
     "name": "stdout",
     "output_type": "stream",
     "text": [
      "Medist\n",
      "Clemitone\n",
      "Cannadend-Og\n",
      "lashtar\n",
      "Coidega\n",
      "Comonebalan\n",
      "Caplerical\n",
      "Madgol\n",
      "Jacky-Crapefrion\n",
      "Jaues-Grapidruit\n",
      "Purple-Og\n",
      "Platian-Pineapt\n",
      "Trescd\n",
      "Ogut\n",
      "Tumbold\n",
      "Tree-Bubbadg\n",
      "Pineape-Snow\n",
      "Platival-Ino\n",
      "Orange\n"
     ]
    }
   ],
   "source": [
    "print(evaluate('M', 200, temperature=0.9))"
   ]
  },
  {
   "cell_type": "code",
   "execution_count": 73,
   "metadata": {},
   "outputs": [
    {
     "name": "stdout",
     "output_type": "stream",
     "text": [
      "1\n",
      "Blactcry\n",
      "Black-Haze\n",
      "Blueberry-Wlegs\n",
      "Blunchion\n",
      "Black-Ind\n",
      "Blackberry-Cherry-Diamond-Je\n",
      "Blacky-Banner\n",
      "Bickel-Kush\n",
      "Blueberry-Dreamel\n",
      "Bangie-Dark\n",
      "Bobbruity-Cheese\n",
      "Blueberry-Sklaze\n",
      "JamaicanYJean\n",
      "Jill-Kush\n",
      "Jawaiian\n",
      "Jawaiian-Jelone\n",
      "Jack-Cream\n",
      "Jure-Purple\n",
      "JaJple\n",
      "Jerry-Og\n",
      "Ulavertonioth\n",
      "The-Bubbacolitious\n",
      "Tawgio\n",
      "Tonickie-Bubba\n",
      "The-Cough\n",
      "Tangenime-Toria\n",
      "Omega-Og\n",
      "Hashberry\n",
      "Hode-Dream\n",
      "Haze\n",
      "Haze-Og\n",
      "Humbe-Skunk\n",
      "Blueberry-Hly-Hood-Daddy\n",
      "Blaund-Headumer-Cake\n",
      "Blueberry-Tonic\n",
      "Black-Dond-Mango-Deatical-Sour-Blook\n",
      "C\n"
     ]
    }
   ],
   "source": [
    "print(evaluate('1', 500, temperature=0.9))"
   ]
  },
  {
   "cell_type": "code",
   "execution_count": 72,
   "metadata": {},
   "outputs": [
    {
     "name": "stdout",
     "output_type": "stream",
     "text": [
      "ZSkunk\n",
      "Sour-Cookie-Kush\n",
      "Sour-Alien-Og\n",
      "Sour-Calyx\n",
      "Sour-Amnesiol\n",
      "Sur-Queen\n",
      "Sugar-Sumater\n",
      "Skunk-47\n",
      "Orange-Candy\n",
      "Purple-Trainwreck\n",
      "Purple-Trainerster\n",
      "Trandwrape\n",
      "Triganeda\n",
      "Huels\n",
      "Ogeger-Candy\n",
      "Tangerinit\n",
      "Traininus-Og\n",
      "Tamemel-Kush\n",
      "Traline-Haze\n",
      "Tangerine-Haze\n",
      "Trush-Train\n",
      "Trinne-Trip\n",
      "Tressinge-Train\n",
      "Tuna-Critus\n",
      "Biesel\n",
      "Jack-Tangie\n",
      "Golden-Gold\n",
      "Hayama-Cheese\n",
      "Headbangel\n",
      "Golden-Calyx\n",
      "Dowboo-Kush\n",
      "Hawaiian-Dick\n",
      "Black-Beat-Bubba\n",
      "Blus-Bog\n",
      "Bedicole\n",
      "Blueberry-Og\n",
      "Blueberry-Diesel\n",
      "Brananuania\n",
      "Bananal-Og\n",
      "Banastar-Pie\n",
      "Bl\n"
     ]
    }
   ],
   "source": [
    "print(evaluate('Z', 500, temperature=0.7))"
   ]
  },
  {
   "cell_type": "code",
   "execution_count": 75,
   "metadata": {},
   "outputs": [
    {
     "name": "stdout",
     "output_type": "stream",
     "text": [
      "w-Train\n",
      "Haze-Wreck\n",
      "Hemmalladon\n",
      "Doylanda\n",
      "Sour-Diesel\n",
      "Sour-Beall-Kush\n",
      "Sour-Budch\n",
      "Sweet-Sour\n",
      "Double-Cheese\n",
      "Sourhala\n",
      "Sour-Dream\n",
      "Sour-Cheese\n",
      "Sour-Calyx\n",
      "Sour-Pine\n",
      "Swissillata\n",
      "Sugar-Sour\n",
      "Sour-Potter\n",
      "Sour-Cherry-Sunshine\n",
      "Sur-Sunshine\n",
      "Sunshine-Dream\n",
      "Calif-Kush\n",
      "Califorstade-Og\n",
      "Calicy-Kush\n",
      "Californ-Cape\n",
      "Cooth-Calif\n",
      "Calix-Og\n",
      "Candey-Og\n",
      "Candy-Kush\n",
      "Cannalif-Candy\n",
      "Caramel-Og\n",
      "Cannalife\n",
      "Califrange-Cookies\n",
      "Critical-Ple\n",
      "Critical-Haze\n",
      "Cannaly-Cheese\n",
      "Critical-Kush\n",
      "Caramelicheas-Candy\n",
      "Cannalay-Beast-Og\n",
      "Casher-Purple\n",
      "Be\n"
     ]
    }
   ],
   "source": [
    "print(evaluate('w', 500, temperature=0.66))"
   ]
  },
  {
   "cell_type": "code",
   "execution_count": null,
   "metadata": {
    "collapsed": true
   },
   "outputs": [],
   "source": []
  }
 ],
 "metadata": {
  "kernelspec": {
   "display_name": "Python 3.6",
   "language": "python",
   "name": "root"
  },
  "language_info": {
   "codemirror_mode": {
    "name": "ipython",
    "version": 3
   },
   "file_extension": ".py",
   "mimetype": "text/x-python",
   "name": "python",
   "nbconvert_exporter": "python",
   "pygments_lexer": "ipython3",
   "version": "3.6.0"
  }
 },
 "nbformat": 4,
 "nbformat_minor": 2
}
